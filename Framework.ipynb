{
  "nbformat": 4,
  "nbformat_minor": 0,
  "metadata": {
    "colab": {
      "provenance": [],
      "gpuType": "A100"
    },
    "kernelspec": {
      "name": "python3",
      "display_name": "Python 3"
    },
    "language_info": {
      "name": "python"
    },
    "accelerator": "GPU"
  },
  "cells": [
    {
      "cell_type": "markdown",
      "source": [
        "#Env setup"
      ],
      "metadata": {
        "id": "ERtVzwyfzLoS"
      }
    },
    {
      "cell_type": "code",
      "execution_count": 3,
      "metadata": {
        "id": "LNj2_IA4xfC2"
      },
      "outputs": [],
      "source": [
        "import numpy as np\n",
        "import pandas as pd\n",
        "from sklearn.model_selection import StratifiedKFold, train_test_split\n",
        "from sklearn.preprocessing import StandardScaler\n",
        "from sklearn.decomposition import PCA\n",
        "from sklearn.pipeline import Pipeline\n",
        "from sklearn.svm import SVC, LinearSVC\n",
        "from sklearn.ensemble import RandomForestClassifier, VotingClassifier\n",
        "from xgboost import XGBClassifier\n",
        "from sklearn.linear_model import LogisticRegression\n",
        "from sklearn.metrics import classification_report, balanced_accuracy_score\n",
        "from sklearn.compose import ColumnTransformer\n",
        "from sklearn.ensemble import StackingClassifier\n",
        "from pathlib import Path\n",
        "from utils import *\n",
        "from tqdm import tqdm\n",
        "from sklearn.preprocessing import LabelEncoder"
      ]
    },
    {
      "cell_type": "code",
      "source": [
        "from google.colab import drive\n",
        "drive.mount('/content/drive')"
      ],
      "metadata": {
        "colab": {
          "base_uri": "https://localhost:8080/"
        },
        "id": "1XSWlsyqxldG",
        "outputId": "4422a318-fbc4-4f13-dcaf-0d1a6e713291"
      },
      "execution_count": 4,
      "outputs": [
        {
          "output_type": "stream",
          "name": "stdout",
          "text": [
            "Mounted at /content/drive\n"
          ]
        }
      ]
    },
    {
      "cell_type": "code",
      "source": [
        "root_dir =  Path(\"/content/drive/MyDrive/281_final_project/plane_classification_data/Training\")"
      ],
      "metadata": {
        "id": "X1nQYX7_xqJg"
      },
      "execution_count": 5,
      "outputs": []
    },
    {
      "cell_type": "markdown",
      "source": [
        "#Load data"
      ],
      "metadata": {
        "id": "GKUM2KH8zOvE"
      }
    },
    {
      "cell_type": "code",
      "source": [
        "def get_images(root_dir):\n",
        "  exts  = {\".jpg\"}\n",
        "  image_paths, labels = [], []\n",
        "  for p in root_dir.rglob(\"*\"):\n",
        "      if p.suffix.lower() in exts:\n",
        "          image_paths.append(p)\n",
        "          labels.append(p.parent.name)     # \"no tumor\", \"pituitary\", ...\n",
        "  return image_paths, labels\n",
        "\n",
        "image_paths, labels = get_images(root_dir)\n",
        "print(f\"Total images found: {len(image_paths)}\")"
      ],
      "metadata": {
        "colab": {
          "base_uri": "https://localhost:8080/"
        },
        "id": "t4funAmd0Yq1",
        "outputId": "db389952-5eec-453f-ef11-a9826918886d"
      },
      "execution_count": 6,
      "outputs": [
        {
          "output_type": "stream",
          "name": "stdout",
          "text": [
            "Total images found: 5722\n"
          ]
        }
      ]
    },
    {
      "cell_type": "markdown",
      "source": [
        "#Features"
      ],
      "metadata": {
        "id": "ogSZnYy56HMF"
      }
    },
    {
      "cell_type": "code",
      "source": [
        "def canny_edge():\n",
        "  pass"
      ],
      "metadata": {
        "id": "w8lfx7FK6K07"
      },
      "execution_count": null,
      "outputs": []
    },
    {
      "cell_type": "code",
      "source": [
        "def dog_features():\n",
        "  pass"
      ],
      "metadata": {
        "id": "PNL1e52x6Mik"
      },
      "execution_count": null,
      "outputs": []
    },
    {
      "cell_type": "code",
      "source": [
        "def compplex_features():\n",
        "  pass"
      ],
      "metadata": {
        "id": "lJQ5LjAE6PjN"
      },
      "execution_count": null,
      "outputs": []
    },
    {
      "cell_type": "code",
      "source": [
        "def preprocess_img_and_apply_feats():\n",
        "  #Call unitl preprocess func\n",
        "  #Apply Canny func (img_canny = canny_edge(img))\n",
        "  #Apply dog func (img_dog = dog_edge(img))\n",
        "  #Apply both? (img_combined = dog_edge(img_canny))\n",
        "  #Apply any other features\n",
        "  #Return np.concatenate([img_canny,img_dog,etc.])\n",
        "  pass"
      ],
      "metadata": {
        "id": "AIljNRED6Xg6"
      },
      "execution_count": null,
      "outputs": []
    },
    {
      "cell_type": "markdown",
      "source": [
        "#Preprocess\n",
        "Change X for loop to preprocess images and apply features then stack (everything else should stay the same...)\n",
        "\n"
      ],
      "metadata": {
        "id": "4MhBpw8CzJeX"
      }
    },
    {
      "cell_type": "code",
      "source": [
        "X = []\n",
        "for p in tqdm(image_paths, desc=\"Pre‑processing images\", unit=\"img\"):\n",
        "    X.append(preprocess_image(str(p))) #change to preprocess_img_and_apply_feats once features are in\n",
        "\n",
        "X = np.stack(X)"
      ],
      "metadata": {
        "colab": {
          "base_uri": "https://localhost:8080/"
        },
        "id": "BYXAc2D608ta",
        "outputId": "91320e67-bfd2-4c8b-978c-c55a7d0350bb"
      },
      "execution_count": 7,
      "outputs": [
        {
          "output_type": "stream",
          "name": "stderr",
          "text": [
            "Pre‑processing images: 100%|██████████| 5722/5722 [49:38<00:00,  1.92img/s]\n"
          ]
        }
      ]
    },
    {
      "cell_type": "code",
      "source": [
        "le = LabelEncoder().fit(labels)\n",
        "Y = le.transform(labels)"
      ],
      "metadata": {
        "id": "KDeSh6LB1B9U"
      },
      "execution_count": 8,
      "outputs": []
    },
    {
      "cell_type": "code",
      "source": [
        "print(dict(zip(le.classes_, le.transform(le.classes_))))"
      ],
      "metadata": {
        "colab": {
          "base_uri": "https://localhost:8080/"
        },
        "id": "8-SUljCW1LyV",
        "outputId": "7c0ce133-560f-43a9-bb9b-ded6744bea7d"
      },
      "execution_count": 9,
      "outputs": [
        {
          "output_type": "stream",
          "name": "stdout",
          "text": [
            "{np.str_('glioma'): np.int64(0), np.str_('meningioma'): np.int64(1), np.str_('notumor'): np.int64(2), np.str_('pituitary'): np.int64(3)}\n"
          ]
        }
      ]
    },
    {
      "cell_type": "code",
      "source": [
        "X_train, X_test, Y_train, Y_test = train_test_split(\n",
        "    X, Y,\n",
        "    test_size   = 0.20,\n",
        "    stratify    = Y,          # keeps class proportions identical\n",
        "    random_state= 42\n",
        ")"
      ],
      "metadata": {
        "id": "oKzIurgr3_mJ"
      },
      "execution_count": 10,
      "outputs": []
    },
    {
      "cell_type": "code",
      "source": [
        "X_train = X_train.reshape(X_train.shape[0], -1)\n",
        "X_test = X_test.reshape(X_test.shape[0], -1)"
      ],
      "metadata": {
        "id": "cfmXFiRqJw-G"
      },
      "execution_count": 27,
      "outputs": []
    },
    {
      "cell_type": "code",
      "source": [
        "cv5 = StratifiedKFold(n_splits=5, shuffle=True, random_state=42)"
      ],
      "metadata": {
        "id": "G2psLKNp4GOT"
      },
      "execution_count": 11,
      "outputs": []
    },
    {
      "cell_type": "markdown",
      "source": [
        "# Scaling / PCA"
      ],
      "metadata": {
        "id": "Pm0m6IMu2SXs"
      }
    },
    {
      "cell_type": "code",
      "source": [
        "pca512 = ('pca', PCA(n_components=512, whiten=False, random_state=42))\n",
        "scaler = ( 'scaler', StandardScaler())"
      ],
      "metadata": {
        "id": "sexcsrf72UJG"
      },
      "execution_count": 19,
      "outputs": []
    },
    {
      "cell_type": "markdown",
      "source": [
        "#Linear SVM"
      ],
      "metadata": {
        "id": "Nvh-JNhe2XFR"
      }
    },
    {
      "cell_type": "code",
      "source": [
        "linear_pipeline = Pipeline([\n",
        "    scaler,\n",
        "    pca512,\n",
        "    ('linsvm', LinearSVC(C=1.0, class_weight='balanced', random_state=42))\n",
        "])"
      ],
      "metadata": {
        "id": "u3OU7-uu2ZQr"
      },
      "execution_count": 20,
      "outputs": []
    },
    {
      "cell_type": "markdown",
      "source": [
        "#RBF SVM (Non-linear)"
      ],
      "metadata": {
        "id": "nIZl1asg2bgl"
      }
    },
    {
      "cell_type": "code",
      "source": [
        "svc_pipline = Pipeline([\n",
        "    scaler,\n",
        "    pca512,\n",
        "    ('rbf', SVC(\n",
        "        C=10.0, kernel='rbf', gamma='scale',\n",
        "        probability=True,\n",
        "        class_weight='balanced',\n",
        "        random_state=42\n",
        "    ))\n",
        "])"
      ],
      "metadata": {
        "id": "8R9s63Ge2d0o"
      },
      "execution_count": 21,
      "outputs": []
    },
    {
      "cell_type": "markdown",
      "source": [
        "# Random Forest"
      ],
      "metadata": {
        "id": "6CVXJh_Y1-_L"
      }
    },
    {
      "cell_type": "code",
      "source": [
        "rf = RandomForestClassifier(\n",
        "        n_estimators=500, max_depth=None,\n",
        "        class_weight='balanced', n_jobs=-1, random_state=42\n",
        "     )"
      ],
      "metadata": {
        "id": "8Uk_-IcX2A4Z"
      },
      "execution_count": 22,
      "outputs": []
    },
    {
      "cell_type": "markdown",
      "source": [
        "#XGBoost"
      ],
      "metadata": {
        "id": "yEP9KfeC2GCp"
      }
    },
    {
      "cell_type": "code",
      "source": [
        "xgb = XGBClassifier(\n",
        "        n_estimators=400, max_depth=6, learning_rate=0.07,\n",
        "        subsample=0.8, colsample_bytree=0.8, objective='multi:softprob',\n",
        "        eval_metric='mlogloss', num_class=4, random_state=42\n",
        "     )"
      ],
      "metadata": {
        "id": "kTJwFOTr2J4W"
      },
      "execution_count": 23,
      "outputs": []
    },
    {
      "cell_type": "markdown",
      "source": [
        "#Base Estimators"
      ],
      "metadata": {
        "id": "3vtrer7H2jBN"
      }
    },
    {
      "cell_type": "code",
      "source": [
        "base_estimators = [\n",
        "    ('svm_lin', linear_pipeline),\n",
        "    ('svm_rbf', svc_pipline),\n",
        "    ('rf', rf),\n",
        "    ('xgb', xgb),\n",
        "]"
      ],
      "metadata": {
        "id": "AwPMGzAk2qJb"
      },
      "execution_count": 24,
      "outputs": []
    },
    {
      "cell_type": "code",
      "source": [
        "soft_vote = VotingClassifier(\n",
        "    estimators = base_estimators,\n",
        "    voting = 'soft',          # average predicted probabilities\n",
        "    weights = [1, 2, 1, 2],    # tweak if one model dominates\n",
        "    n_jobs = -1\n",
        ")\n",
        "soft_vote.fit(X_train, Y_train)"
      ],
      "metadata": {
        "id": "cwGquXOM2yuH"
      },
      "execution_count": null,
      "outputs": []
    },
    {
      "cell_type": "markdown",
      "source": [
        "# Stack Ensemble\n",
        "###"
      ],
      "metadata": {
        "id": "K2DZ4FWM2-gU"
      }
    },
    {
      "cell_type": "code",
      "source": [
        "stack = StackingClassifier(\n",
        "    estimators = base_estimators,\n",
        "    final_estimator= LogisticRegression(\n",
        "        penalty='l2', C=1.0, max_iter=500, multi_class='multinomial'\n",
        "    ),\n",
        "    stack_method = 'predict_proba',   # pass probs to meta layer\n",
        "    passthrough = False,\n",
        "    cv = cv5\n",
        ")\n",
        "stack.fit(X_train, Y_train)"
      ],
      "metadata": {
        "id": "BZisK5Sa3CCu"
      },
      "execution_count": null,
      "outputs": []
    },
    {
      "cell_type": "markdown",
      "source": [
        "#Eval"
      ],
      "metadata": {
        "id": "TU6pC1cZ3JWe"
      }
    },
    {
      "cell_type": "code",
      "source": [
        "def evaluate(model, name):\n",
        "    Y_pred = model.predict(X_test)\n",
        "    Y_prob = model.predict_proba(X_test)\n",
        "    bal_acc = balanced_accuracy_score(Y_test, Y_pred)\n",
        "    print(f'\\n{name}: Balanced accuracy = {bal_acc:0.4f}')\n",
        "    print(classification_report(Y_test, Y_pred, target_names=[\n",
        "        'no‑tumor', 'pituitary', 'glioma', 'meningioma'\n",
        "    ]))\n",
        "\n",
        "evaluate(soft_vote, 'Soft‑Voting')\n",
        "evaluate(stack, 'Stacked‑LogReg')"
      ],
      "metadata": {
        "id": "syQp_Nj73LC-"
      },
      "execution_count": null,
      "outputs": []
    },
    {
      "cell_type": "markdown",
      "source": [],
      "metadata": {
        "id": "ESmAYaim2NJQ"
      }
    }
  ]
}